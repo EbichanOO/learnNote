{
 "cells": [
  {
   "cell_type": "markdown",
   "metadata": {},
   "source": [
    "# 転移学習\n",
    "## 転移学習とは？\n",
    "あるタスクで学習したモデルを他のタスクに利用する手法\n",
    "### よくわからない...\n",
    "しょうがないなぁ例を出すよ( 一一)\n",
    "ドメイン(train-testデータ集合) = {A, B}\n",
    "DNN(A)：Aを学習したDNN\n",
    "DNN(A)を使ってBの予測をするよ！\n",
    "\n",
    "## 何が良いの？\n",
    "### 少ないデータで高い精度を実現できる\n",
    "CNNが出力した特徴量をさらにCNNに入力するので、少ないデータでも over fittingしにくい！\n",
    "### 計算量が少ない\n",
    "特徴量を入力にするので、(通常の学習に比べ)計算量が少ない！\n",
    "\n",
    "## 具体的にどうする？\n",
    "出力層だけ変更したり、学習させたりします(重み固定)\n",
    "\n",
    "まあやってみよう"
   ]
  },
  {
   "cell_type": "code",
   "execution_count": null,
   "metadata": {
    "collapsed": true
   },
   "outputs": [],
   "source": []
  }
 ],
 "metadata": {
  "kernelspec": {
   "display_name": "Python 3",
   "language": "python",
   "name": "python3"
  },
  "language_info": {
   "codemirror_mode": {
    "name": "ipython",
    "version": 3
   },
   "file_extension": ".py",
   "mimetype": "text/x-python",
   "name": "python",
   "nbconvert_exporter": "python",
   "pygments_lexer": "ipython3",
   "version": "3.6.0"
  }
 },
 "nbformat": 4,
 "nbformat_minor": 2
}
